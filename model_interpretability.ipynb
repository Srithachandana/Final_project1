{
  "cells": [
    {
      "cell_type": "markdown",
      "metadata": {},
      "source": [
        "# Model Interpretability with SHAP and LIME\n",
        "\n",
        "This notebook implements model interpretability using SHAP and LIME to explain model predictions. We'll apply these techniques to our healthcare models to understand feature importance and provide explainable AI for clinical decision support.\n",
        "\n",
        "## Objectives\n",
        "1. Load trained healthcare models\n",
        "2. Implement SHAP for global and local explanations\n",
        "3. Implement LIME for local interpretability\n",
        "4. Visualize feature importance and model decisions\n",
        "5. Generate clinical insights and explanations\n",
        "6. Save interpretability results for deployment\n"
      ]
    },
    {
      "cell_type": "code",
      "execution_count": null,
      "metadata": {},
      "outputs": [],
      "source": [
        "# Import necessary libraries\n",
        "import pandas as pd\n",
        "import numpy as np\n",
        "import matplotlib.pyplot as plt\n",
        "import seaborn as sns\n",
        "import joblib\n",
        "import os\n",
        "import warnings\n",
        "warnings.filterwarnings('ignore')\n",
        "\n",
        "# SHAP libraries\n",
        "try:\n",
        "    import shap\n",
        "    SHAP_AVAILABLE = True\n",
        "except ImportError:\n",
        "    SHAP_AVAILABLE = False\n",
        "    print(\"SHAP not available. Install with: pip install shap\")\n",
        "\n",
        "# LIME libraries\n",
        "try:\n",
        "    import lime\n",
        "    import lime.lime_tabular\n",
        "    import lime.lime_text\n",
        "    LIME_AVAILABLE = True\n",
        "except ImportError:\n",
        "    LIME_AVAILABLE = False\n",
        "    print(\"LIME not available. Install with: pip install lime\")\n",
        "\n",
        "# Set plotting style\n",
        "plt.style.use('default')\n",
        "sns.set_palette('viridis')\n",
        "\n",
        "print(\"Libraries imported successfully!\")\n",
        "print(f\"SHAP available: {SHAP_AVAILABLE}\")\n",
        "print(f\"LIME available: {LIME_AVAILABLE}\")\n"
      ]
    },
    {
      "cell_type": "markdown",
      "metadata": {},
      "source": [
        "## 1. Load Models and Data\n"
      ]
    },
    {
      "cell_type": "code",
      "execution_count": null,
      "metadata": {},
      "outputs": [],
      "source": [
        "# Load trained models\n",
        "models = {}\n",
        "scalers = {}\n",
        "\n",
        "# Load classification model\n",
        "try:\n",
        "    models['classification'] = joblib.load('../src/models/classification/mortality_prediction_model.pkl')\n",
        "    scalers['classification'] = joblib.load('../src/models/classification/mortality_prediction_scaler.pkl')\n",
        "    print(\"✅ Classification model loaded\")\n",
        "except:\n",
        "    print(\"⚠️ Classification model not found\")\n",
        "\n",
        "# Load regression model\n",
        "try:\n",
        "    models['regression'] = joblib.load('../src/models/regression/length_of_stay_model.pkl')\n",
        "    scalers['regression'] = joblib.load('../src/models/regression/length_of_stay_scaler.pkl')\n",
        "    print(\"✅ Regression model loaded\")\n",
        "except:\n",
        "    print(\"⚠️ Regression model not found\")\n",
        "\n",
        "# Load sentiment model\n",
        "try:\n",
        "    models['sentiment'] = joblib.load('../src/models/nlp/sentiment_analysis_model.pkl')\n",
        "    print(\"✅ Sentiment model loaded\")\n",
        "except:\n",
        "    print(\"⚠️ Sentiment model not found\")\n",
        "\n",
        "# Load sample data\n",
        "try:\n",
        "    data = pd.read_csv('../src/data/processed/mimic3_processed.csv')\n",
        "    print(f\"✅ Data loaded: {data.shape}\")\n",
        "except:\n",
        "    print(\"⚠️ Processed data not found\")\n",
        "    # Create sample data\n",
        "    data = pd.DataFrame({\n",
        "        'age': np.random.normal(65, 15, 100),\n",
        "        'gender_M': np.random.binomial(1, 0.5, 100),\n",
        "        'admission_type_EMERGENCY': np.random.binomial(1, 0.7, 100),\n",
        "        'insurance_Medicare': np.random.binomial(1, 0.6, 100),\n",
        "        'mortality': np.random.binomial(1, 0.3, 100)\n",
        "    })\n",
        "    print(f\"✅ Sample data created: {data.shape}\")\n"
      ]
    }
  ],
  "metadata": {
    "language_info": {
      "name": "python"
    }
  },
  "nbformat": 4,
  "nbformat_minor": 2
}
