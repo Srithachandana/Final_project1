{
 "cells": [
  {
   "cell_type": "markdown",
   "id": "9bf942f4",
   "metadata": {},
   "source": [
    "# Association Rules Mining for Medical Data\n",
    "\n",
    "This notebook implements association rules mining using the Apriori algorithm to discover medical associations from the MIMIC-3 dataset. We'll mine patterns like \"(high BMI ∧ hypertension) ⇒ increased risk of diabetes\" and evaluate them using Support, Confidence, and Lift metrics.\n",
    "\n",
    "## Objectives\n",
    "1. Load and preprocess MIMIC-3 diagnosis data\n",
    "2. Prepare data for association rules mining\n",
    "3. Implement Apriori algorithm\n",
    "4. Discover medical associations and comorbidities\n",
    "5. Evaluate rules using Support, Confidence, and Lift metrics\n",
    "6. Save discovered rules for clinical interpretation\n"
   ]
  },
  {
   "cell_type": "code",
   "execution_count": 6,
   "id": "de8edb88",
   "metadata": {},
   "outputs": [
    {
     "name": "stdout",
     "output_type": "stream",
     "text": [
      "Libraries imported successfully!\n"
     ]
    }
   ],
   "source": [
    "# Import necessary libraries\n",
    "import pandas as pd\n",
    "import numpy as np\n",
    "import matplotlib.pyplot as plt\n",
    "import seaborn as sns\n",
    "from mlxtend.frequent_patterns import apriori, association_rules\n",
    "from mlxtend.preprocessing import TransactionEncoder\n",
    "import warnings\n",
    "warnings.filterwarnings('ignore')\n",
    "\n",
    "# Set plotting style\n",
    "plt.style.use('default')\n",
    "sns.set_palette('viridis')\n",
    "\n",
    "print(\"Libraries imported successfully!\")\n"
   ]
  },
  {
   "cell_type": "markdown",
   "id": "4b789143",
   "metadata": {},
   "source": [
    "## 1. Load and Explore MIMIC-3 Data\n"
   ]
  },
  {
   "cell_type": "code",
   "execution_count": 7,
   "id": "c4cbd9f4",
   "metadata": {},
   "outputs": [
    {
     "name": "stdout",
     "output_type": "stream",
     "text": [
      "Loaded preprocessed diagnoses data: (1761, 5)\n",
      "Dataset shape: (1761, 5)\n",
      "Columns: ['row_id', 'subject_id', 'hadm_id', 'seq_num', 'icd9_code']\n"
     ]
    },
    {
     "data": {
      "text/html": [
       "<div>\n",
       "<style scoped>\n",
       "    .dataframe tbody tr th:only-of-type {\n",
       "        vertical-align: middle;\n",
       "    }\n",
       "\n",
       "    .dataframe tbody tr th {\n",
       "        vertical-align: top;\n",
       "    }\n",
       "\n",
       "    .dataframe thead th {\n",
       "        text-align: right;\n",
       "    }\n",
       "</style>\n",
       "<table border=\"1\" class=\"dataframe\">\n",
       "  <thead>\n",
       "    <tr style=\"text-align: right;\">\n",
       "      <th></th>\n",
       "      <th>row_id</th>\n",
       "      <th>subject_id</th>\n",
       "      <th>hadm_id</th>\n",
       "      <th>seq_num</th>\n",
       "      <th>icd9_code</th>\n",
       "    </tr>\n",
       "  </thead>\n",
       "  <tbody>\n",
       "    <tr>\n",
       "      <th>0</th>\n",
       "      <td>112344</td>\n",
       "      <td>10006</td>\n",
       "      <td>142345</td>\n",
       "      <td>1</td>\n",
       "      <td>99591</td>\n",
       "    </tr>\n",
       "    <tr>\n",
       "      <th>1</th>\n",
       "      <td>112345</td>\n",
       "      <td>10006</td>\n",
       "      <td>142345</td>\n",
       "      <td>2</td>\n",
       "      <td>99662</td>\n",
       "    </tr>\n",
       "    <tr>\n",
       "      <th>2</th>\n",
       "      <td>112346</td>\n",
       "      <td>10006</td>\n",
       "      <td>142345</td>\n",
       "      <td>3</td>\n",
       "      <td>5672</td>\n",
       "    </tr>\n",
       "    <tr>\n",
       "      <th>3</th>\n",
       "      <td>112347</td>\n",
       "      <td>10006</td>\n",
       "      <td>142345</td>\n",
       "      <td>4</td>\n",
       "      <td>40391</td>\n",
       "    </tr>\n",
       "    <tr>\n",
       "      <th>4</th>\n",
       "      <td>112348</td>\n",
       "      <td>10006</td>\n",
       "      <td>142345</td>\n",
       "      <td>5</td>\n",
       "      <td>42731</td>\n",
       "    </tr>\n",
       "  </tbody>\n",
       "</table>\n",
       "</div>"
      ],
      "text/plain": [
       "   row_id  subject_id  hadm_id  seq_num icd9_code\n",
       "0  112344       10006   142345        1     99591\n",
       "1  112345       10006   142345        2     99662\n",
       "2  112346       10006   142345        3      5672\n",
       "3  112347       10006   142345        4     40391\n",
       "4  112348       10006   142345        5     42731"
      ]
     },
     "execution_count": 7,
     "metadata": {},
     "output_type": "execute_result"
    }
   ],
   "source": [
    "# Load MIMIC-3 data\n",
    "try:\n",
    "    # Try to load preprocessed data first\n",
    "    diagnoses = pd.read_csv('../src/data/processed/mimic3_diagnoses.csv')\n",
    "    print(f\"Loaded preprocessed diagnoses data: {diagnoses.shape}\")\n",
    "except FileNotFoundError:\n",
    "    # Load raw MIMIC-3 data if preprocessed not available\n",
    "    print(\"Preprocessed data not found. Loading raw MIMIC-3 data...\")\n",
    "    diagnoses = pd.read_csv('../MIMIC-3/DIAGNOSES_ICD.csv')\n",
    "    diagnoses_icd = pd.read_csv('../MIMIC-3/D_ICD_DIAGNOSES.csv')\n",
    "    \n",
    "    # Merge with ICD descriptions\n",
    "    diagnoses = pd.merge(diagnoses, diagnoses_icd, on='icd9_code', how='left')\n",
    "    print(f\"Loaded raw diagnoses data: {diagnoses.shape}\")\n",
    "\n",
    "# Display basic information\n",
    "print(f\"Dataset shape: {diagnoses.shape}\")\n",
    "print(f\"Columns: {diagnoses.columns.tolist()}\")\n",
    "diagnoses.head()\n"
   ]
  },
  {
   "cell_type": "code",
   "execution_count": 8,
   "id": "8b542513",
   "metadata": {},
   "outputs": [
    {
     "name": "stdout",
     "output_type": "stream",
     "text": [
      "Data quality check:\n",
      "Missing values: 0\n",
      "Unique patients: 100\n",
      "Unique diagnoses: 581\n",
      "\n",
      "Top 10 most common diagnoses:\n",
      "icd9_code\n",
      "4019     53\n",
      "42731    48\n",
      "5849     45\n",
      "4280     39\n",
      "51881    31\n",
      "25000    31\n",
      "2724     29\n",
      "5990     27\n",
      "486      26\n",
      "2859     25\n",
      "Name: count, dtype: int64\n",
      "No diagnosis descriptions available\n"
     ]
    }
   ],
   "source": [
    "# Check data quality\n",
    "print(\"Data quality check:\")\n",
    "print(f\"Missing values: {diagnoses.isnull().sum().sum()}\")\n",
    "print(f\"Unique patients: {diagnoses['subject_id'].nunique()}\")\n",
    "print(f\"Unique diagnoses: {diagnoses['icd9_code'].nunique()}\")\n",
    "\n",
    "# Check most common diagnoses\n",
    "print(\"\\nTop 10 most common diagnoses:\")\n",
    "diagnosis_counts = diagnoses['icd9_code'].value_counts().head(10)\n",
    "print(diagnosis_counts)\n",
    "\n",
    "# Check if we have diagnosis descriptions\n",
    "if 'short_title' in diagnoses.columns:\n",
    "    print(\"\\nSample diagnosis descriptions:\")\n",
    "    sample_diagnoses = diagnoses[['icd9_code', 'short_title']].drop_duplicates().head(10)\n",
    "    print(sample_diagnoses)\n",
    "else:\n",
    "    print(\"No diagnosis descriptions available\")\n"
   ]
  }
 ],
 "metadata": {
  "kernelspec": {
   "display_name": "Python 3",
   "language": "python",
   "name": "python3"
  },
  "language_info": {
   "name": "python",
   "version": "3.13.1"
  }
 },
 "nbformat": 4,
 "nbformat_minor": 5
}
